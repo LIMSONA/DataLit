{
  "nbformat": 4,
  "nbformat_minor": 0,
  "metadata": {
    "colab": {
      "name": "정규표현식.ipynb",
      "provenance": [],
      "collapsed_sections": [],
      "mount_file_id": "1Ghx_C8eviRTxjMLpyK6knjkUkig4g3Ir",
      "authorship_tag": "ABX9TyN6kd3SnmaDT0fMPZh4Y1Ck",
      "include_colab_link": true
    },
    "kernelspec": {
      "name": "python3",
      "display_name": "Python 3"
    },
    "language_info": {
      "name": "python"
    }
  },
  "cells": [
    {
      "cell_type": "markdown",
      "metadata": {
        "id": "view-in-github",
        "colab_type": "text"
      },
      "source": [
        "<a href=\"https://colab.research.google.com/github/LIMSONA/DataLit/blob/main/%EC%A0%95%EA%B7%9C%ED%91%9C%ED%98%84%EC%8B%9D.ipynb\" target=\"_parent\"><img src=\"https://colab.research.google.com/assets/colab-badge.svg\" alt=\"Open In Colab\"/></a>"
      ]
    },
    {
      "cell_type": "markdown",
      "metadata": {
        "id": "LvbRuI-bRwrx"
      },
      "source": [
        "# **정규식을 이용한 문자열검색**\n",
        "\n",
        "\n"
      ]
    },
    {
      "cell_type": "code",
      "metadata": {
        "id": "uabc9irQMwZB"
      },
      "source": [
        "import re"
      ],
      "execution_count": 1,
      "outputs": []
    },
    {
      "cell_type": "markdown",
      "metadata": {
        "id": "H3vjHxabNfi1"
      },
      "source": [
        "* match"
      ]
    },
    {
      "cell_type": "code",
      "metadata": {
        "colab": {
          "base_uri": "https://localhost:8080/"
        },
        "id": "Osm61q5XM-Pk",
        "outputId": "9e52b615-45a5-4c34-ed94-94b73e7a5315"
      },
      "source": [
        "p=re.compile('[a-z]+')\n",
        "m=p.match('python')\n",
        "print(m)"
      ],
      "execution_count": 4,
      "outputs": [
        {
          "output_type": "stream",
          "name": "stdout",
          "text": [
            "<re.Match object; span=(0, 6), match='python'>\n"
          ]
        }
      ]
    },
    {
      "cell_type": "code",
      "metadata": {
        "colab": {
          "base_uri": "https://localhost:8080/"
        },
        "id": "DtVIT8zrNWQ9",
        "outputId": "c64d6f90-836d-4ce1-c819-2babe9be2605"
      },
      "source": [
        "p=re.compile('[a-z]+')\n",
        "m=p.match('3 python')\n",
        "print(m)"
      ],
      "execution_count": 5,
      "outputs": [
        {
          "output_type": "stream",
          "name": "stdout",
          "text": [
            "None\n"
          ]
        }
      ]
    },
    {
      "cell_type": "markdown",
      "metadata": {
        "id": "PCh8__dwNeAV"
      },
      "source": [
        "* search"
      ]
    },
    {
      "cell_type": "code",
      "metadata": {
        "colab": {
          "base_uri": "https://localhost:8080/"
        },
        "id": "SXj5zYPENd91",
        "outputId": "2019ddaa-7c4b-4aee-ac5b-e9bfa5e140a9"
      },
      "source": [
        "p=re.compile('[a-z]+')\n",
        "m=p.search('python')\n",
        "print(m)"
      ],
      "execution_count": 6,
      "outputs": [
        {
          "output_type": "stream",
          "name": "stdout",
          "text": [
            "<re.Match object; span=(0, 6), match='python'>\n"
          ]
        }
      ]
    },
    {
      "cell_type": "code",
      "metadata": {
        "colab": {
          "base_uri": "https://localhost:8080/"
        },
        "id": "Oo1N3z6cNd7d",
        "outputId": "084c488b-566d-44b1-9620-d5c90cfd512d"
      },
      "source": [
        "p=re.compile('[a-z]+')\n",
        "m=p.search('3 python')\n",
        "print(m)\n",
        "\n",
        "#처음부터 검색하는 match와 다르게 중간에 있기만하면 되니까 "
      ],
      "execution_count": 7,
      "outputs": [
        {
          "output_type": "stream",
          "name": "stdout",
          "text": [
            "<re.Match object; span=(2, 8), match='python'>\n"
          ]
        }
      ]
    },
    {
      "cell_type": "markdown",
      "metadata": {
        "id": "5Ab2fTxONd5H"
      },
      "source": [
        "* findall : 일치하는 스트링을 리스트로 반환\n",
        "* finditer: 일치하는 것을 반복 가능한 객체(iterator object)형태로 돌려준다"
      ]
    },
    {
      "cell_type": "code",
      "metadata": {
        "colab": {
          "base_uri": "https://localhost:8080/"
        },
        "id": "riSkhVY_N_kn",
        "outputId": "43403983-4bbe-4ce0-8080-2e263dd97858"
      },
      "source": [
        "p=re.compile('[a-z]+')\n",
        "m=p.findall('life is too short')\n",
        "print(m)"
      ],
      "execution_count": 9,
      "outputs": [
        {
          "output_type": "stream",
          "name": "stdout",
          "text": [
            "['life', 'is', 'too', 'short']\n"
          ]
        }
      ]
    },
    {
      "cell_type": "code",
      "metadata": {
        "colab": {
          "base_uri": "https://localhost:8080/"
        },
        "id": "0pExN1e-OEof",
        "outputId": "fe2cef7a-97a0-48a9-a7ea-96d25412d453"
      },
      "source": [
        "p=re.compile('[a-z]+')\n",
        "m=p.finditer('life is too short')\n",
        "print(m)"
      ],
      "execution_count": 10,
      "outputs": [
        {
          "output_type": "stream",
          "name": "stdout",
          "text": [
            "<callable_iterator object at 0x7f474bad1f50>\n"
          ]
        }
      ]
    },
    {
      "cell_type": "code",
      "metadata": {
        "colab": {
          "base_uri": "https://localhost:8080/"
        },
        "id": "QCgC8G5JOPVt",
        "outputId": "b0da4300-5ad1-4c9d-a0aa-e48d55ac71c8"
      },
      "source": [
        "p=re.compile('[a-z]+')\n",
        "m=p.finditer('life is too short')\n",
        "for r in m: print(r)"
      ],
      "execution_count": 12,
      "outputs": [
        {
          "output_type": "stream",
          "name": "stdout",
          "text": [
            "<re.Match object; span=(0, 4), match='life'>\n",
            "<re.Match object; span=(5, 7), match='is'>\n",
            "<re.Match object; span=(8, 11), match='too'>\n",
            "<re.Match object; span=(12, 17), match='short'>\n"
          ]
        }
      ]
    },
    {
      "cell_type": "markdown",
      "metadata": {
        "id": "RaXfZuGGOX4a"
      },
      "source": [
        "#  **match객체의 메서드**"
      ]
    },
    {
      "cell_type": "code",
      "metadata": {
        "colab": {
          "base_uri": "https://localhost:8080/",
          "height": 35
        },
        "id": "pJ1scvRpOsj4",
        "outputId": "6b6648c1-0c63-48ef-9c35-fa8683326fa8"
      },
      "source": [
        "m=p.match('python')\n",
        "m.group()"
      ],
      "execution_count": 14,
      "outputs": [
        {
          "output_type": "execute_result",
          "data": {
            "application/vnd.google.colaboratory.intrinsic+json": {
              "type": "string"
            },
            "text/plain": [
              "'python'"
            ]
          },
          "metadata": {},
          "execution_count": 14
        }
      ]
    },
    {
      "cell_type": "code",
      "metadata": {
        "colab": {
          "base_uri": "https://localhost:8080/"
        },
        "id": "xGT6V_c2PBne",
        "outputId": "4b1f17aa-d27e-48fd-e266-e2d6cdc67fc5"
      },
      "source": [
        "m=p.match('python')\n",
        "m.start()"
      ],
      "execution_count": 15,
      "outputs": [
        {
          "output_type": "execute_result",
          "data": {
            "text/plain": [
              "0"
            ]
          },
          "metadata": {},
          "execution_count": 15
        }
      ]
    },
    {
      "cell_type": "code",
      "metadata": {
        "colab": {
          "base_uri": "https://localhost:8080/"
        },
        "id": "C_8NdehEPDac",
        "outputId": "ed116d4d-3384-4f93-c594-e916f9a75a69"
      },
      "source": [
        "m=p.match('python')\n",
        "m.end()"
      ],
      "execution_count": 16,
      "outputs": [
        {
          "output_type": "execute_result",
          "data": {
            "text/plain": [
              "6"
            ]
          },
          "metadata": {},
          "execution_count": 16
        }
      ]
    },
    {
      "cell_type": "code",
      "metadata": {
        "colab": {
          "base_uri": "https://localhost:8080/"
        },
        "id": "i3OOhxr0PHYi",
        "outputId": "c1dd82af-19f6-42a7-ad03-9736a038b49c"
      },
      "source": [
        "m=p.match('python')\n",
        "m.span() \n",
        "#시작과 끝"
      ],
      "execution_count": 17,
      "outputs": [
        {
          "output_type": "execute_result",
          "data": {
            "text/plain": [
              "(0, 6)"
            ]
          },
          "metadata": {},
          "execution_count": 17
        }
      ]
    },
    {
      "cell_type": "markdown",
      "metadata": {
        "id": "ibCmT_elPIgJ"
      },
      "source": [
        "# **컴파일 옵션**\n",
        " - DOTALL(S) - . 이 줄바꿈 문자를 포함하여 모든 문자와 매치할 수 있도록 한다.\n",
        " - IGNORECASE(I) - 대소문자에 관계없이 매치할 수 있도록 한다.\n",
        " - MULTILINE(M) - 여러줄과 매치할 수 있도록 한다. (^, $ 메타문자의 사용과 관계가 있는 옵션이다)\n",
        " - VERBOSE(X) - verbose 모드를 사용할 수 있도록 한다. (정규식을 보기 편하게 만들수 있고 주석등을 사용할 수 있게된다.)"
      ]
    },
    {
      "cell_type": "code",
      "metadata": {
        "colab": {
          "base_uri": "https://localhost:8080/"
        },
        "id": "hzHPVvJNPOQN",
        "outputId": "fd43a1b0-3cda-486c-942d-4f1f528bbe53"
      },
      "source": [
        "import re\n",
        "p=re.compile('a.b')\n",
        "m=p.match('a\\nb')\n",
        "print(m)"
      ],
      "execution_count": 18,
      "outputs": [
        {
          "output_type": "stream",
          "name": "stdout",
          "text": [
            "None\n"
          ]
        }
      ]
    },
    {
      "cell_type": "code",
      "metadata": {
        "colab": {
          "base_uri": "https://localhost:8080/"
        },
        "id": "c-juF-MDPqql",
        "outputId": "2222322c-4280-4704-b09c-845356b38d81"
      },
      "source": [
        "import re\n",
        "p=re.compile('a.b', re.DOTALL) #re.S 라고 써도 됨\n",
        "m=p.match('a\\nb')\n",
        "print(m)"
      ],
      "execution_count": 19,
      "outputs": [
        {
          "output_type": "stream",
          "name": "stdout",
          "text": [
            "<re.Match object; span=(0, 3), match='a\\nb'>\n"
          ]
        }
      ]
    },
    {
      "cell_type": "code",
      "metadata": {
        "colab": {
          "base_uri": "https://localhost:8080/"
        },
        "id": "aQnXI2y_QTD9",
        "outputId": "3c90e15c-c0e9-4bae-942a-4bab4f462c35"
      },
      "source": [
        "p = re.compile('[a-z]') \n",
        "m=p.match('Python')\n",
        "print(m)"
      ],
      "execution_count": 25,
      "outputs": [
        {
          "output_type": "stream",
          "name": "stdout",
          "text": [
            "None\n"
          ]
        }
      ]
    },
    {
      "cell_type": "code",
      "metadata": {
        "colab": {
          "base_uri": "https://localhost:8080/"
        },
        "id": "czU3EYjZQYgM",
        "outputId": "e22da376-aaa3-4500-aebe-07a31d3955df"
      },
      "source": [
        "p = re.compile('[a-z]') \n",
        "m=p.match('PYTHON')\n",
        "print(m)"
      ],
      "execution_count": 26,
      "outputs": [
        {
          "output_type": "stream",
          "name": "stdout",
          "text": [
            "None\n"
          ]
        }
      ]
    },
    {
      "cell_type": "code",
      "metadata": {
        "colab": {
          "base_uri": "https://localhost:8080/"
        },
        "id": "w2VmhyFePxeR",
        "outputId": "7ea64a38-a79e-4269-8951-fe396d01a51b"
      },
      "source": [
        "p = re.compile('[a-z]', re.IGNORECASE) #re.I라고 써도 됨\n",
        "p.match('python')"
      ],
      "execution_count": 21,
      "outputs": [
        {
          "output_type": "execute_result",
          "data": {
            "text/plain": [
              "<re.Match object; span=(0, 1), match='p'>"
            ]
          },
          "metadata": {},
          "execution_count": 21
        }
      ]
    },
    {
      "cell_type": "code",
      "metadata": {
        "colab": {
          "base_uri": "https://localhost:8080/"
        },
        "id": "M3V1w-cEQIIF",
        "outputId": "e942ccff-3dba-4a80-9c82-a4c150266349"
      },
      "source": [
        "import re\n",
        "p = re.compile(\"^python\\s\\w+\") #python란 문자로 시작 그 뒤 공백, 그 뒤 단어\n",
        "\n",
        "data = \"\"\"python one\n",
        "life is too short\n",
        "python two\n",
        "you need python\n",
        "python three\"\"\"\n",
        "\n",
        "print(p.findall(data))"
      ],
      "execution_count": 27,
      "outputs": [
        {
          "output_type": "stream",
          "name": "stdout",
          "text": [
            "['python one']\n"
          ]
        }
      ]
    },
    {
      "cell_type": "code",
      "metadata": {
        "colab": {
          "base_uri": "https://localhost:8080/"
        },
        "id": "67MgH2hiQDll",
        "outputId": "ad319f7f-a2b7-43f9-a5c1-61b4f4700445"
      },
      "source": [
        "import re\n",
        "p = re.compile(\"^python\\s\\w+\", re.MULTILINE) #re.M와 동일함\n",
        "\n",
        "data = \"\"\"python one\n",
        "life is too short\n",
        "python two\n",
        "you need python\n",
        "python three\"\"\"\n",
        "\n",
        "print(p.findall(data)) #멀티라인이 꺽쇠^를 각 라인 맨 처음부터 시작하여 찾게 해줌"
      ],
      "execution_count": 28,
      "outputs": [
        {
          "output_type": "stream",
          "name": "stdout",
          "text": [
            "['python one', 'python two', 'python three']\n"
          ]
        }
      ]
    },
    {
      "cell_type": "code",
      "metadata": {
        "id": "1R6afYCJQ_Rv"
      },
      "source": [
        "charref = re.compile(r'&[#](0[0-7]+|[0-9]+|x[0-9a-fA-F]+);')"
      ],
      "execution_count": 30,
      "outputs": []
    },
    {
      "cell_type": "code",
      "metadata": {
        "id": "gQRl6HjfRULU"
      },
      "source": [
        "charref = re.compile(r\"\"\"\n",
        " &[#]                # Start of a numeric entity reference\n",
        " (\n",
        "     0[0-7]+         # Octal form\n",
        "   | [0-9]+          # Decimal form\n",
        "   | x[0-9a-fA-F]+   # Hexadecimal form\n",
        " )\n",
        " ;                   # Trailing semicolon\n",
        "\"\"\", re.VERBOSE) #re.X와 동일함\n",
        "\n",
        "# re.X 옵션을 사용하면 문자열에 사용된 공백은 컴파일할 때 제거된다\n",
        "# (단 [ ] 안에 사용한 whitespace는 제외). \n",
        "# 그리고 줄 단위로 #기호를 사용하여 주석문을 작성할 수 있다."
      ],
      "execution_count": null,
      "outputs": []
    },
    {
      "cell_type": "markdown",
      "metadata": {
        "id": "W8c_YPf8SCAk"
      },
      "source": [
        "# **백슬래시**"
      ]
    },
    {
      "cell_type": "markdown",
      "metadata": {
        "id": "iXA1Iv_pSEB0"
      },
      "source": [
        ""
      ]
    },
    {
      "cell_type": "code",
      "metadata": {
        "id": "evElwbOWSkaD"
      },
      "source": [
        "#    '\\section'을 찾고 싶으면 \\s + ection 과 구별하기위에\n",
        "#    '\\\\section'으로 써야함 \n",
        "#    그런데 문제는! 파이선 문자열 리터럴 규칙에 따라 \\\\이 \\로 바뀌기 때문에\n",
        "#    \\\\을 전달하려면 '\\\\\\\\section'으로 써야함 \n",
        "\n",
        "#   r'\\\\section'\n",
        "#   위와 같이 정규식 문자열 앞에 r 문자를 삽입하면 \n",
        "#   백슬래시 1개만 써도 2개를 쓴 것과 동일한 의미를 갖게 된다."
      ],
      "execution_count": 31,
      "outputs": []
    },
    {
      "cell_type": "markdown",
      "metadata": {
        "id": "6rqJkC3nUS5j"
      },
      "source": [
        "# **메타문자**"
      ]
    },
    {
      "cell_type": "code",
      "metadata": {
        "colab": {
          "base_uri": "https://localhost:8080/"
        },
        "id": "K3LUKMTHUefv",
        "outputId": "9a54f092-51c7-41b6-d397-5ed0b538ca11"
      },
      "source": [
        "# | 은 또는\n",
        "p = re.compile('Crow|Servo')\n",
        "m = p.match('CrowHello')\n",
        "m"
      ],
      "execution_count": 32,
      "outputs": [
        {
          "output_type": "execute_result",
          "data": {
            "text/plain": [
              "<re.Match object; span=(0, 4), match='Crow'>"
            ]
          },
          "metadata": {},
          "execution_count": 32
        }
      ]
    },
    {
      "cell_type": "code",
      "metadata": {
        "colab": {
          "base_uri": "https://localhost:8080/"
        },
        "id": "_v_Iju41U1v-",
        "outputId": "26fa87c3-838f-4c83-f836-a57decf920ff"
      },
      "source": [
        "#위와 동일한 식\n",
        "print(re.match('Crow|Servo','CrowHello'))"
      ],
      "execution_count": 35,
      "outputs": [
        {
          "output_type": "stream",
          "name": "stdout",
          "text": [
            "<re.Match object; span=(0, 4), match='Crow'>\n"
          ]
        }
      ]
    },
    {
      "cell_type": "code",
      "metadata": {
        "colab": {
          "base_uri": "https://localhost:8080/"
        },
        "id": "uz3zDhqxUlPv",
        "outputId": "67cefdff-593e-4a2f-e636-28124e903b90"
      },
      "source": [
        "# ^는 처음\n",
        "print(re.search('^Life', 'Life is too short'))"
      ],
      "execution_count": 33,
      "outputs": [
        {
          "output_type": "stream",
          "name": "stdout",
          "text": [
            "<re.Match object; span=(0, 4), match='Life'>\n"
          ]
        }
      ]
    },
    {
      "cell_type": "code",
      "metadata": {
        "colab": {
          "base_uri": "https://localhost:8080/"
        },
        "id": "tZVrUDXwUu7M",
        "outputId": "e91de0bc-039a-482c-f5ed-b47e668c79dc"
      },
      "source": [
        "print(re.search('^Life', 'My Life'))"
      ],
      "execution_count": 34,
      "outputs": [
        {
          "output_type": "stream",
          "name": "stdout",
          "text": [
            "None\n"
          ]
        }
      ]
    },
    {
      "cell_type": "code",
      "metadata": {
        "colab": {
          "base_uri": "https://localhost:8080/"
        },
        "id": "rVDBa47VUwjw",
        "outputId": "19024bd7-b9f9-4c16-fd30-67f769eae668"
      },
      "source": [
        "# $는 끝\n",
        "print(re.search('short$', 'Life is too short'))"
      ],
      "execution_count": 36,
      "outputs": [
        {
          "output_type": "stream",
          "name": "stdout",
          "text": [
            "<re.Match object; span=(12, 17), match='short'>\n"
          ]
        }
      ]
    },
    {
      "cell_type": "code",
      "metadata": {
        "colab": {
          "base_uri": "https://localhost:8080/"
        },
        "id": "1JDNxL4RXNy_",
        "outputId": "9382f9cb-4606-4a6e-ed1b-f87d99be2c70"
      },
      "source": [
        "print(re.search('short$', 'Life is too short, you need python'))"
      ],
      "execution_count": 37,
      "outputs": [
        {
          "output_type": "stream",
          "name": "stdout",
          "text": [
            "None\n"
          ]
        }
      ]
    },
    {
      "cell_type": "code",
      "metadata": {
        "colab": {
          "base_uri": "https://localhost:8080/"
        },
        "id": "DXZZ-XESXQTB",
        "outputId": "a8a1b693-2e3e-4f2b-9eab-83f72ab58a3f"
      },
      "source": [
        "# \\b 공백\n",
        "print(re.search( r'\\bclass\\b', 'no class at all'))"
      ],
      "execution_count": 39,
      "outputs": [
        {
          "output_type": "stream",
          "name": "stdout",
          "text": [
            "<re.Match object; span=(3, 8), match='class'>\n"
          ]
        }
      ]
    },
    {
      "cell_type": "code",
      "metadata": {
        "colab": {
          "base_uri": "https://localhost:8080/"
        },
        "id": "deN8DaM9X_4n",
        "outputId": "ef33502a-6401-492b-eb67-42fc8b60999f"
      },
      "source": [
        "print(re.search( r'\\bclass\\b', 'the declassified algorithm'))"
      ],
      "execution_count": 42,
      "outputs": [
        {
          "output_type": "stream",
          "name": "stdout",
          "text": [
            "None\n"
          ]
        }
      ]
    },
    {
      "cell_type": "markdown",
      "metadata": {
        "id": "yNXzylyFYHU6"
      },
      "source": [
        "# **그루핑**"
      ]
    },
    {
      "cell_type": "code",
      "metadata": {
        "colab": {
          "base_uri": "https://localhost:8080/"
        },
        "id": "W3-zzxPWYjFy",
        "outputId": "1ae7feef-4e84-41c7-fe00-d9a4adfa4e03"
      },
      "source": [
        "p = re.compile('(ABC)+')\n",
        "m = p.search('ABCABCABC OK?')\n",
        "print(m)"
      ],
      "execution_count": 43,
      "outputs": [
        {
          "output_type": "stream",
          "name": "stdout",
          "text": [
            "<re.Match object; span=(0, 9), match='ABCABCABC'>\n"
          ]
        }
      ]
    },
    {
      "cell_type": "code",
      "metadata": {
        "colab": {
          "base_uri": "https://localhost:8080/"
        },
        "id": "YH3w46i2YrN7",
        "outputId": "1fb8c3cc-8463-43c5-9cb8-d627becb9c46"
      },
      "source": [
        "print(m.group())"
      ],
      "execution_count": 44,
      "outputs": [
        {
          "output_type": "stream",
          "name": "stdout",
          "text": [
            "ABCABCABC\n"
          ]
        }
      ]
    },
    {
      "cell_type": "code",
      "metadata": {
        "colab": {
          "base_uri": "https://localhost:8080/"
        },
        "id": "JVt2xNjKYuKy",
        "outputId": "25cb41b6-58da-468d-ce2c-8c588346af72"
      },
      "source": [
        "p = re.compile(r\"(\\w+)\\s+\\d+[-]\\d+[-]\\d+\")\n",
        "m = p.search(\"park 010-1234-1234\")\n",
        "\n",
        "print(m.group(1))"
      ],
      "execution_count": 48,
      "outputs": [
        {
          "output_type": "stream",
          "name": "stdout",
          "text": [
            "park\n"
          ]
        }
      ]
    },
    {
      "cell_type": "code",
      "metadata": {
        "colab": {
          "base_uri": "https://localhost:8080/",
          "height": 35
        },
        "id": "5P7fXugCZfzG",
        "outputId": "736cc1cc-e1a7-4a89-8259-d1b20c526a6a"
      },
      "source": [
        "#그루핑된 문자열 재 참고하기\n",
        "p = re.compile(r'(\\b\\w+)\\s+\\1') #뒤에 \\1을 써주며 찾기\n",
        "p.search('Paris in the the spring').group()"
      ],
      "execution_count": 51,
      "outputs": [
        {
          "output_type": "execute_result",
          "data": {
            "application/vnd.google.colaboratory.intrinsic+json": {
              "type": "string"
            },
            "text/plain": [
              "'the the'"
            ]
          },
          "metadata": {},
          "execution_count": 51
        }
      ]
    },
    {
      "cell_type": "code",
      "metadata": {
        "colab": {
          "base_uri": "https://localhost:8080/"
        },
        "id": "KoSYrF25ahU2",
        "outputId": "c4d7ff63-9ed6-4b87-bf9d-5faa134adf71"
      },
      "source": [
        "# 그루핑된 문자열에 이름 붙이기\n",
        "# (\\w+) --> (?P<name>\\w+)로 바꿔서 그룹에 이름 붙이기\n",
        "\n",
        "# p = re.compile(r\"(\\w+)\\s+\\d+[-]\\d+[-]\\d+\")\n",
        "p = re.compile(r\"(?P<name>\\w+)\\s+((\\d+)[-]\\d+[-]\\d+)\")\n",
        "m = p.search(\"park 010-1234-1234\")\n",
        "print(m.group(\"name\"))"
      ],
      "execution_count": 52,
      "outputs": [
        {
          "output_type": "stream",
          "name": "stdout",
          "text": [
            "park\n"
          ]
        }
      ]
    },
    {
      "cell_type": "code",
      "metadata": {
        "colab": {
          "base_uri": "https://localhost:8080/",
          "height": 35
        },
        "id": "iZbawlFoa-JC",
        "outputId": "b292f409-cb5c-4754-a487-8264d74b71da"
      },
      "source": [
        "# 그룹 이름을 사용하면 정규식 안에서 그룹이름으로 재참조하는 것도 가능하다.\n",
        "\n",
        "p = re.compile(r'(?P<word>\\b\\w+)\\s+(?P=word)')\n",
        "p.search('Paris in the the spring').group()"
      ],
      "execution_count": 53,
      "outputs": [
        {
          "output_type": "execute_result",
          "data": {
            "application/vnd.google.colaboratory.intrinsic+json": {
              "type": "string"
            },
            "text/plain": [
              "'the the'"
            ]
          },
          "metadata": {},
          "execution_count": 53
        }
      ]
    },
    {
      "cell_type": "markdown",
      "metadata": {
        "id": "hyVGcds-bjw2"
      },
      "source": [
        "# **전방탐색**\n"
      ]
    },
    {
      "cell_type": "code",
      "metadata": {
        "colab": {
          "base_uri": "https://localhost:8080/"
        },
        "id": "Jf5xMbUBY-Hk",
        "outputId": "ec01852c-ca18-4688-94e2-284e540f507f"
      },
      "source": [
        "p = re.compile(\".+:\")\n",
        "m = p.search(\"http://google.com\")\n",
        "print(m.group())"
      ],
      "execution_count": 54,
      "outputs": [
        {
          "output_type": "stream",
          "name": "stdout",
          "text": [
            "http:\n"
          ]
        }
      ]
    },
    {
      "cell_type": "markdown",
      "metadata": {
        "id": "1ltYtvPbcDwP"
      },
      "source": [
        "* 긍정형 전방 탐색((?=...)) - ... 에 해당되는 정규식과 매치되어야 하며, 조건에 검색은 되지만, 결과에는 반영안되는.\n",
        "* 부정형 전방 탐색((?!...)) - ...에 해당되는 정규식과 매치되지 않아야 하며, 조건이 통과되어도 문자열이 소비되지 않는다."
      ]
    },
    {
      "cell_type": "code",
      "metadata": {
        "colab": {
          "base_uri": "https://localhost:8080/"
        },
        "id": "Orm_ZKSHcUw2",
        "outputId": "a3c42029-7653-4a77-94d0-0fedf572cd80"
      },
      "source": [
        "# 긍정형 전방탐색(?=)\n",
        "p = re.compile(\".+:\")\n",
        "m = p.search(\"http://google.com\")\n",
        "print(m.group())"
      ],
      "execution_count": 55,
      "outputs": [
        {
          "output_type": "stream",
          "name": "stdout",
          "text": [
            "http:\n"
          ]
        }
      ]
    },
    {
      "cell_type": "code",
      "metadata": {
        "colab": {
          "base_uri": "https://localhost:8080/",
          "height": 35
        },
        "id": "kHrZITB9ejTu",
        "outputId": "362800cf-b374-4c12-b6da-023b267bd06c"
      },
      "source": [
        "p=re.compile(\".+(?=:)\")\n",
        "m=p.search(\"http://google.com\")\n",
        "m.group()"
      ],
      "execution_count": 58,
      "outputs": [
        {
          "output_type": "execute_result",
          "data": {
            "application/vnd.google.colaboratory.intrinsic+json": {
              "type": "string"
            },
            "text/plain": [
              "'http'"
            ]
          },
          "metadata": {},
          "execution_count": 58
        }
      ]
    },
    {
      "cell_type": "code",
      "metadata": {
        "colab": {
          "base_uri": "https://localhost:8080/"
        },
        "id": "5Hfarurye068",
        "outputId": "6013200d-d865-4157-9bb4-8abe67d38e1a"
      },
      "source": [
        "p=re.compile(\".+(?=:)\")\n",
        "m=p.search(\"http://google.com\")\n",
        "m"
      ],
      "execution_count": 59,
      "outputs": [
        {
          "output_type": "execute_result",
          "data": {
            "text/plain": [
              "<re.Match object; span=(0, 4), match='http'>"
            ]
          },
          "metadata": {},
          "execution_count": 59
        }
      ]
    },
    {
      "cell_type": "code",
      "metadata": {
        "colab": {
          "base_uri": "https://localhost:8080/"
        },
        "id": "b7rgCtyae3Kn",
        "outputId": "eee493d0-2ecf-498b-d463-93b5246326e7"
      },
      "source": [
        "#부정형 전방탐색(?!)\n",
        "p=re.compile('.*[.](?!bat$).*$',re.M)\n",
        "m= p.findall('''\n",
        "autoexec.exe\n",
        "autoexec.bat\n",
        "autoexec.jpg\n",
        "''')\n",
        "m"
      ],
      "execution_count": 62,
      "outputs": [
        {
          "output_type": "execute_result",
          "data": {
            "text/plain": [
              "['autoexec.exe', 'autoexec.jpg']"
            ]
          },
          "metadata": {},
          "execution_count": 62
        }
      ]
    },
    {
      "cell_type": "code",
      "metadata": {
        "colab": {
          "base_uri": "https://localhost:8080/"
        },
        "id": "dRPRtlkQ2DxU",
        "outputId": "03c81414-17de-4862-a944-fb9adff4e9c2"
      },
      "source": [
        "p=re.compile('.*[.](?!bat$|exe$).*$',re.M)\n",
        "m= p.findall('''\n",
        "autoexec.exe\n",
        "autoexec.bat\n",
        "autoexec.jpg\n",
        "''')\n",
        "m"
      ],
      "execution_count": 63,
      "outputs": [
        {
          "output_type": "execute_result",
          "data": {
            "text/plain": [
              "['autoexec.jpg']"
            ]
          },
          "metadata": {},
          "execution_count": 63
        }
      ]
    },
    {
      "cell_type": "markdown",
      "metadata": {
        "id": "H-qauEZ5ezNQ"
      },
      "source": [
        "# **문자열 바꾸기**"
      ]
    },
    {
      "cell_type": "code",
      "metadata": {
        "colab": {
          "base_uri": "https://localhost:8080/",
          "height": 35
        },
        "id": "z16aV6P1evqa",
        "outputId": "b3aa87a6-4c4c-466f-907a-87177eddcfbd"
      },
      "source": [
        "#sub 메서드\n",
        "p = re.compile('(blue|white|red)')\n",
        "p.sub('color', 'blue socks and red shoes')"
      ],
      "execution_count": 66,
      "outputs": [
        {
          "output_type": "execute_result",
          "data": {
            "application/vnd.google.colaboratory.intrinsic+json": {
              "type": "string"
            },
            "text/plain": [
              "'color socks and color shoes'"
            ]
          },
          "metadata": {},
          "execution_count": 66
        }
      ]
    },
    {
      "cell_type": "markdown",
      "metadata": {
        "id": "o2gCqRBP2vwS"
      },
      "source": [
        "# **Greedy vs Non-Greedy**"
      ]
    },
    {
      "cell_type": "code",
      "metadata": {
        "colab": {
          "base_uri": "https://localhost:8080/"
        },
        "id": "vaOqTaPH2vbc",
        "outputId": "8a85257a-2a46-4a9a-c7fa-52932d89fcf7"
      },
      "source": [
        "#greedy: 매치하는 모든 것을 도출\n",
        "import re\n",
        "s = '<html><head><title>Title</title>'\n",
        "print(re.match('<.*>', s).group())"
      ],
      "execution_count": 68,
      "outputs": [
        {
          "output_type": "stream",
          "name": "stdout",
          "text": [
            "<html><head><title>Title</title>\n"
          ]
        }
      ]
    },
    {
      "cell_type": "code",
      "metadata": {
        "colab": {
          "base_uri": "https://localhost:8080/"
        },
        "id": "aTgTMdL23aKS",
        "outputId": "a0b85a51-b4ff-4631-dd3e-61b22cb4380f"
      },
      "source": [
        "#non-greedy: 탐욕을 제한한다\n",
        "s = '<html><head><title>Title</title>'\n",
        "print(re.match('<.*?>', s).group())"
      ],
      "execution_count": 69,
      "outputs": [
        {
          "output_type": "stream",
          "name": "stdout",
          "text": [
            "<html>\n"
          ]
        }
      ]
    }
  ]
}